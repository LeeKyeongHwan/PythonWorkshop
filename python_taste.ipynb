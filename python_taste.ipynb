{
 "cells": [
  {
   "cell_type": "code",
   "execution_count": 4,
   "id": "83b27c38",
   "metadata": {},
   "outputs": [],
   "source": [
    "### File Write\n",
    "data = \"hello\"\n",
    "with open(\"test.txt\", \"w\") as fp:\n",
    "    fp.write(data)"
   ]
  },
  {
   "cell_type": "code",
   "execution_count": 5,
   "id": "e5687ce4",
   "metadata": {},
   "outputs": [
    {
     "name": "stdout",
     "output_type": "stream",
     "text": [
      "파이썬 쉽네 ?\n",
      "hello\n"
     ]
    }
   ],
   "source": [
    "### File Read\n",
    "with open(\"test.txt\", \"r\") as fp:\n",
    "    print(\"파이썬 쉽네 ?\")\n",
    "    print(fp.read())"
   ]
  },
  {
   "cell_type": "code",
   "execution_count": 6,
   "id": "14b451be",
   "metadata": {},
   "outputs": [
    {
     "name": "stdout",
     "output_type": "stream",
     "text": [
      " C 드라이브의 볼륨에는 이름이 없습니다.\n",
      " 볼륨 일련 번호: 7A74-5583\n",
      "\n",
      " C:\\Users\\82106\\python_work\\PythonWorkshop 디렉터리\n",
      "\n",
      "2021-09-17  오후 06:17    <DIR>          .\n",
      "2021-09-17  오후 06:17    <DIR>          ..\n",
      "2021-09-17  오후 05:48             1,928 .gitignore\n",
      "2021-09-17  오후 06:05    <DIR>          .ipynb_checkpoints\n",
      "2021-09-17  오후 06:17             2,266 python_taste.ipynb\n",
      "2021-09-17  오후 05:48                51 README.md\n",
      "2021-09-17  오후 06:14                 5 test.txt\n",
      "               4개 파일               4,250 바이트\n",
      "               3개 디렉터리  42,813,259,776 바이트 남음\n"
     ]
    }
   ],
   "source": [
    "!dir"
   ]
  },
  {
   "cell_type": "code",
   "execution_count": null,
   "id": "21222a39",
   "metadata": {},
   "outputs": [],
   "source": [
    "#Windows\n",
    "!type test.txt"
   ]
  },
  {
   "cell_type": "code",
   "execution_count": null,
   "id": "293b05f1",
   "metadata": {},
   "outputs": [],
   "source": []
  },
  {
   "cell_type": "code",
   "execution_count": 34,
   "id": "a9566585",
   "metadata": {},
   "outputs": [],
   "source": [
    "import requests"
   ]
  },
  {
   "cell_type": "code",
   "execution_count": 35,
   "id": "351c4089",
   "metadata": {},
   "outputs": [],
   "source": [
    "# image URL\n",
    "url = \"https://search1.kakaocdn.net/argon/600x0_65_wr/ImZk3b2X1w8\""
   ]
  },
  {
   "cell_type": "code",
   "execution_count": 36,
   "id": "6ae74f0d",
   "metadata": {},
   "outputs": [],
   "source": [
    "# URL image 요청\n",
    "img_response = requests.get(url)"
   ]
  },
  {
   "cell_type": "code",
   "execution_count": 37,
   "id": "1bdeced4",
   "metadata": {},
   "outputs": [
    {
     "name": "stdout",
     "output_type": "stream",
     "text": [
      "요청성공!\n"
     ]
    }
   ],
   "source": [
    "#요청에 성공했다면\n",
    "if img_response.status_code == 200:\n",
    "    print(\"요청성공!\")\n",
    "    with open(\"request_success.jpg\", \"wb\") as fp:\n",
    "        fp.write(img_response.content)"
   ]
  },
  {
   "cell_type": "code",
   "execution_count": 38,
   "id": "86b12f98",
   "metadata": {},
   "outputs": [
    {
     "name": "stdout",
     "output_type": "stream",
     "text": [
      " C 드라이브의 볼륨에는 이름이 없습니다.\n",
      " 볼륨 일련 번호: 7A74-5583\n",
      "\n",
      " C:\\Users\\82106\\python_work\\PythonWorkshop 디렉터리\n",
      "\n",
      "2021-09-17  오후 07:19    <DIR>          .\n",
      "2021-09-17  오후 07:19    <DIR>          ..\n",
      "2021-09-17  오후 05:48             1,928 .gitignore\n",
      "2021-09-17  오후 06:05    <DIR>          .ipynb_checkpoints\n",
      "2021-09-17  오후 07:19            15,388 python_taste.ipynb\n",
      "2021-09-17  오후 05:48                51 README.md\n",
      "2021-09-17  오후 07:21            27,952 request_success.jpg\n",
      "2021-09-17  오후 06:14                 5 test.txt\n",
      "               5개 파일              45,324 바이트\n",
      "               3개 디렉터리  42,797,072,384 바이트 남음\n"
     ]
    }
   ],
   "source": [
    "!dir"
   ]
  },
  {
   "cell_type": "code",
   "execution_count": null,
   "id": "0983975f",
   "metadata": {},
   "outputs": [],
   "source": []
  },
  {
   "cell_type": "code",
   "execution_count": null,
   "id": "6e0dac95",
   "metadata": {},
   "outputs": [],
   "source": []
  },
  {
   "cell_type": "code",
   "execution_count": 60,
   "id": "567c394c",
   "metadata": {},
   "outputs": [],
   "source": [
    "#Kakao Daum 검색 API 활용하기\n",
    "import requests\n",
    "import json"
   ]
  },
  {
   "cell_type": "code",
   "execution_count": 61,
   "id": "3c313546",
   "metadata": {},
   "outputs": [],
   "source": [
    "#image 검색 URL\n",
    "url = \"https://dapi.kakao.com/v2/search/image\""
   ]
  },
  {
   "cell_type": "code",
   "execution_count": 62,
   "id": "951d1212",
   "metadata": {},
   "outputs": [],
   "source": [
    "# 요청 헤더\n",
    "headers = {\n",
    "    \"Authorization\": \"KakaoAK ldfsufglsdfjglsigusdfgls433\"\n",
    "    # \"Authorization\": \"KakaoAK REST API 키\"\n",
    "}"
   ]
  },
  {
   "cell_type": "code",
   "execution_count": 63,
   "id": "c4f85baa",
   "metadata": {},
   "outputs": [],
   "source": [
    "#찾고자 하는 데이터\n",
    "data = {\n",
    "    \"query\" : \"웰시코기\"\n",
    "}"
   ]
  },
  {
   "cell_type": "code",
   "execution_count": 64,
   "id": "804de11f",
   "metadata": {},
   "outputs": [],
   "source": [
    "# Image 검색 요청\n",
    "response = requests.post(url, headers=headers, data=data)"
   ]
  },
  {
   "cell_type": "code",
   "execution_count": 65,
   "id": "bb12d209",
   "metadata": {},
   "outputs": [
    {
     "name": "stdout",
     "output_type": "stream",
     "text": [
      "200\n"
     ]
    }
   ],
   "source": [
    "print(response.status_code)"
   ]
  },
  {
   "cell_type": "code",
   "execution_count": 66,
   "id": "f46febc5",
   "metadata": {},
   "outputs": [],
   "source": [
    "# 검색해온 모든 이미지를 저장한다.\n",
    "def save_image(image_url, file_name):\n",
    "    img_response = requests.get(image_url)\n",
    "    \n",
    "    # 요청 성공!\n",
    "    if img_response.status_code == 200:\n",
    "        # 저장\n",
    "        with open(file_name, \"wb\") as fp:\n",
    "            fp.write(img_response.content)"
   ]
  },
  {
   "cell_type": "code",
   "execution_count": 68,
   "id": "e2acdf25",
   "metadata": {},
   "outputs": [
    {
     "name": "stdout",
     "output_type": "stream",
     "text": [
      "[0th] image_url =  http://postfiles1.naver.net/20130118_128/dlsqkd88_1358485242416ISnYc_JPEG/%C0%A3%BD%C3%C4%DA%B1%E25.jpg?type=w2\n",
      "[1th] image_url =  http://postfiles3.naver.net/20160602_290/wns858585_1464847039830CU0u6_PNG/%C0%A3%BD%C3%C4%DA%B1%E2.PNG?type=w966\n",
      "[2th] image_url =  http://postfiles15.naver.net/20140911_62/pianosampjh_1410361667269g5JAF_PNG/%C0%A3%BD%C3%C4%DA%B1%E2_2.PNG?type=w1\n",
      "[3th] image_url =  http://cfs11.blog.daum.net/image/17/blog/2008/08/04/11/46/48966d819c5b9&filename=%EC%9B%B0%EC%8B%9C%EC%BD%94%EA%B8%B0%EB%82%98%EB%93%A4%EC%9D%B4012_resize.jpg\n",
      "[4th] image_url =  http://postfiles14.naver.net/20150417_237/uqm97uxey_14292628131175xSbf_JPEG/%C0%A3%BD%C3%C4%DA%B1%E2.jpg?type=w1\n",
      "[5th] image_url =  http://postfiles8.naver.net/20121202_87/zoozoo5678_1354400158758dCWkM_JPEG/%C0%A3%BD%C3%C4%DA%B1%E2.jpg?type=w2\n",
      "[6th] image_url =  http://postfiles1.naver.net/20160226_240/pse5722_1456478926229YoN3c_JPEG/%C0%A3%BD%C3%C4%DA%B1%E22.jpg?type=w2\n",
      "[7th] image_url =  http://postfiles16.naver.net/20141218_255/sadeye180_1418871742086t8Cr4_JPEG/%C0%A3%BD%C3%C4%DA%B1%E24.jpg?type=w2\n",
      "[8th] image_url =  http://postfiles7.naver.net/20140113_198/clswls416_1389615180532ODUNj_JPEG/%C0%A3%BD%C3%C4%DA%B1%E2.jpg?type=w3\n",
      "[9th] image_url =  http://postfiles14.naver.net/20141029_45/tacktack61_1414556952323eYXYM_JPEG/%B8%F1%BE%E7%B0%DF%C0%A3%BD%C3%C4%DA%B1%E2.jpg?type=w2\n",
      "[10th] image_url =  http://postfiles8.naver.net/20141016_23/hi77ppo_1413469527028FrVxc_JPEG/%C7%CF%BE%E1_%C0%A3%BD%C3%C4%DA%B1%E2_%284%29.jpg?type=w1\n",
      "[11th] image_url =  http://postfiles10.naver.net/20151230_57/abpet_1451450069219wVANW_JPEG/%C0%A3%BD%C3%C4%DA%B1%E2_14.jpg?type=w1\n",
      "[12th] image_url =  http://postfiles5.naver.net/20150617_164/narto_gumi_1434520276573iM9bn_JPEG/%C0%A3%BD%C3%C4%DA%B1%E28.jpg?type=w2\n",
      "[13th] image_url =  http://t1.daumcdn.net/cfile/tistory/2436CA3954F6844A0B\n",
      "[14th] image_url =  http://postfiles5.naver.net/20111122_4/gusrdu_1321940519072P7aAI_JPEG/%C0%A3%BD%C3%C4%DA%B1%E2_%2819%29.jpg?type=w2\n",
      "[15th] image_url =  http://postfiles14.naver.net/20130118_237/dlsqkd88_1358485241938ynsjl_JPEG/%C0%A3%BD%C3%C4%DA%B1%E26.jpg?type=w2\n",
      "[16th] image_url =  http://t1.daumcdn.net/cfile/tistory/2508203C5497105E15\n",
      "[17th] image_url =  http://postfiles1.naver.net/20140828_16/rubenshouse_1409214805929QYIst_JPEG/%C0%A3%BD%C3%C4%DA%B1%E27.jpg?type=w1\n",
      "[18th] image_url =  http://postfiles16.naver.net/20101126_223/petianbooks_1290758357050KPc5R_JPEG/%C0%A3%BD%C3%C4%DA%B1%E25.JPG?type=w3\n",
      "[19th] image_url =  http://postfiles15.naver.net/20150703_14/duvh4640_14358987732013mAhe_JPEG/%C0%A3%BD%C3%C4%DA%B1%E2_%B1%B3%B9%E8_%C0%AF%C0%FC%C0%DA4.jpg?type=w3\n",
      "[20th] image_url =  http://postfiles6.naver.net/20141231_53/sadeye180_1419993131031wT7rz_JPEG/%C0%A3%BD%C3%C4%DA%B1%E2.jpg?type=w2\n",
      "[21th] image_url =  http://t1.daumcdn.net/cfile/tistory/221049505174960137\n",
      "[22th] image_url =  http://postfiles16.naver.net/20101126_31/petianbooks_1290759294552yqyms_JPEG/%C0%A3%BD%C3%C4%DA%B1%E213.JPG?type=w3\n",
      "[23th] image_url =  http://postfiles3.naver.net/20160930_226/santaq777_1475201799028dupex_JPEG/%C0%A3%BD%C3%C4%DA%B1%E2_%281%29.jpg?type=w773\n",
      "[24th] image_url =  http://file2.instiz.net/data/file2/2016/02/20/9/6/e/96e2c8a6693d856b9325df27545f1562.jpg\n",
      "[25th] image_url =  http://t1.daumcdn.net/cfile/tistory/1128EB3C514F906D0A\n",
      "[26th] image_url =  http://postfiles9.naver.net/20141223_104/hphp1311_1419323156730lcMSn_JPEG/%C0%A3%BD%C3%C4%DA%B1%E21.jpg?type=w2\n",
      "[27th] image_url =  http://postfiles12.naver.net/20131127_219/o164828266_1385542486575DAb7h_JPEG/%C0%A3%BD%C3%C4%DA%B1%E2.JPG?type=w1\n",
      "[28th] image_url =  http://postfiles1.naver.net/20131213_192/apimaster02_13869203785312GRyt_JPEG/%C0%A3%BD%C3%C4%DA%B1%E2google_co_kr_20131213_163814.jpg?type=w2\n",
      "[29th] image_url =  http://postfiles12.naver.net/20141218_283/sadeye180_1418871746095wMFLA_JPEG/%C0%A3%BD%C3%C4%DA%B1%E2511.jpg?type=w2\n",
      "[30th] image_url =  http://postfiles15.naver.net/20140603_94/akeltp0_1401772414504JOIDT_JPEG/%C0%A3%BD%C3%C4%DA%B1%E2.jpg?type=w1\n",
      "[31th] image_url =  http://postfiles4.naver.net/20150620_195/butty1968_1434726314330WidWu_JPEG/%C0%A3%BD%C3%C4%DA%B1%E2_%BE%FB%B5%A2%C0%CC.jpg?type=w1\n",
      "[32th] image_url =  http://cfs12.blog.daum.net/image/18/blog/2008/08/01/18/19/4892d4752290f&filename=%EC%9B%B0%EC%8B%9C%EC%BD%94%EA%B8%B0a004.jpg\n",
      "[33th] image_url =  http://postfiles15.naver.net/20151120_142/inbnet_1447983878780TztyA_JPEG/%C0%A3%BD%C3%C4%DA%B1%E2_%C6%E8%BA%EA%B7%CE%C5%A9.jpg?type=w2\n",
      "[34th] image_url =  http://postfiles14.naver.net/20131002_157/jep0326_1380679396441KkPoW_JPEG/%C0%A3%BD%C3%C4%DA%B1%E213.jpg?type=w2\n",
      "[35th] image_url =  http://postfiles8.naver.net/20141016_247/hi77ppo_1413469526875u6aTx_JPEG/%C7%CF%BE%E1_%C0%A3%BD%C3%C4%DA%B1%E2_%283%29.jpg?type=w1\n",
      "[36th] image_url =  http://postfiles13.naver.net/20140109_60/timecontents_1389255756123I9WCp_JPEG/%C0%A3%BD%C3%C4%DA%B1%E2_%BB%FD%B1%E8%BB%F59.jpg?type=w2\n",
      "[37th] image_url =  http://postfiles5.naver.net/data1/2004/6/26/228/%C0%A3%BD%C3%C4%DA%B1%E2.jpg?type=w3\n",
      "[38th] image_url =  http://t1.daumcdn.net/cfile/tistory/153E913E4DC03ABD07\n",
      "[39th] image_url =  http://postfiles16.naver.net/20120705_143/cad5464_1341466114331gQVbP_JPEG/%C0%A3%BD%C3%C4%DA%B1%E2_3.jpg?type=w2\n",
      "[40th] image_url =  http://postfiles9.naver.net/20130118_72/dlsqkd88_1358485242681ru0eW_JPEG/%C0%A3%BD%C3%C4%DA%B1%E28.jpg?type=w2\n",
      "[41th] image_url =  http://t1.daumcdn.net/cfile/tistory/2509F73C5497106014\n",
      "[42th] image_url =  http://postfiles11.naver.net/20140820_298/gd81165_1408528010785u30r7_JPEG/%C0%A3%BD%C3%C4%DA%B1%E2_01.jpg?type=w2\n",
      "[43th] image_url =  http://cfs12.blog.daum.net/image/2/blog/2008/08/01/18/19/4892d45d6a14a&filename=%EC%9B%B0%EC%8B%9C%EC%BD%94%EA%B8%B0a001.jpg\n",
      "[44th] image_url =  http://postfiles13.naver.net/20160311_172/between4547_1457688607028Xkit9_JPEG/%C0%A3%BD%C3%C4%DA%B1%E2_%2838%29.JPG?type=w1\n",
      "[45th] image_url =  http://postfiles3.naver.net/data43/2009/3/24/290/%C0%A3%BD%C3%C4%DA%B1%E2_ehgusdl127.jpg?type=w3\n",
      "[46th] image_url =  http://postfiles4.naver.net/20130613_147/gjrkr1000_1371115824568pjLIn_JPEG/%B4%C1%B4%EB%2B%C0%A3%BD%C3%C4%DA%B1%E2.jpg?type=w3\n",
      "[47th] image_url =  https://k.kakaocdn.net/dn/vhsHJ/btrbW2zqAX0/EXNU7mj0mK9OMxqXCVeqrK/img.jpg\n",
      "[48th] image_url =  https://k.kakaocdn.net/dn/7nlbP/btrbW11B8E8/QicY2lENsASyonjRoLo0MK/img.jpg\n",
      "[49th] image_url =  https://k.kakaocdn.net/dn/c9RUHz/btrbR5qkbWp/7dLQQqM8l1KMmKrqtgoAh1/img.jpg\n",
      "[50th] image_url =  http://cfs11.blog.daum.net/image/14/blog/2008/08/04/11/46/48966d4c4df10&filename=%EC%9B%B0%EC%8B%9C%EC%BD%94%EA%B8%B0side008_resize.jpg\n",
      "[51th] image_url =  http://file2.instiz.net/data/file2/2016/02/20/c/3/5/c351910617013cc59eeb09f42a44cbc2.jpg\n",
      "[52th] image_url =  http://postfiles1.naver.net/20131129_128/ylnmeg_1385687861246GslD1_PNG/%C0%A3%BD%C3%C4%DA%B1%E2.png?type=w3\n",
      "[53th] image_url =  http://t1.daumcdn.net/thumb/R659x0/?fname=http%3A%2F%2Ft1.daumcdn.net%2Fencyclop%2F53FD3051065E880001%3Ft%3D1425373168000%3Ft%3D1466409600000\n",
      "[54th] image_url =  http://t1.daumcdn.net/cfile/tistory/99C68C3A5BC4214E18\n",
      "[55th] image_url =  http://postfiles15.naver.net/MjAxOTEwMDhfMjg3/MDAxNTcwNDk3NDk1OTE5.LJtY8NXRlCjrT2IXsOVL_e0eonEGofgTrk4GU7vlDB0g.hfBwaQ3OQSwWadEelEVKWKOPiTvNmU9L80H6tktCxvwg.JPEG.splk4567/%EC%9B%B0%EC%8B%9C%EC%BD%94%EA%B8%B0.jpg?type=w966\n",
      "[56th] image_url =  http://t1.daumcdn.net/cfile/tistory/27409A3F58EF7D2E01\n",
      "[57th] image_url =  http://cfs11.blog.daum.net/image/7/blog/2008/08/04/11/46/48966d6b88744&filename=%EC%9B%B0%EC%8B%9C%EC%BD%94%EA%B8%B0%EA%B7%BC%EC%97%84022_resize.jpg\n",
      "[58th] image_url =  http://t1.daumcdn.net/cfile/tistory/99CB763A5BC4215017\n",
      "[59th] image_url =  http://postfiles15.naver.net/20141218_206/sadeye180_1418871744605T9XiB_JPEG/%C0%A3%BD%C3%C4%DA%B1%E25.jpg?type=w2\n",
      "[60th] image_url =  http://postfiles3.naver.net/20111122_66/gusrdu_1321940518583LYtpK_JPEG/%C0%A3%BD%C3%C4%DA%B1%E2_%2818%29.jpg?type=w2\n",
      "[61th] image_url =  http://t1.daumcdn.net/cfile/tistory/99FDC1335A1D77C806\n",
      "[62th] image_url =  http://cfs12.blog.daum.net/image/7/blog/2008/08/01/18/19/4892d44340afc&filename=%EC%9B%B0%EC%8B%9C%EC%BD%94%EA%B8%B0a020.jpg\n",
      "[63th] image_url =  http://postfiles15.naver.net/20111122_158/gusrdu_1321940510041i83BP_JPEG/%C0%A3%BD%C3%C4%DA%B1%E2_%283%29.jpg?type=w2\n",
      "[64th] image_url =  http://postfiles13.naver.net/MjAyMDA5MDJfMjIw/MDAxNTk5MDEwOTQwMzAy.irLWYY1FYcm9aEdJSnXcuiBbDaKIyZjGDtYo0-I00YEg.JUjFuF589jzmczLfmQOUfeB8s0Es8BpFyxD0VAfHHqAg.JPEG.lc01234/%EC%9B%B0%EC%8B%9C%EC%BD%94%EA%B8%B0.jpg?type=w966\n",
      "[65th] image_url =  http://postfiles10.naver.net/20140109_169/onlyjoo3_1389254840219WyjiK_JPEG/%C0%A3%BD%C3%C4%DA%B1%E22.JPG?type=w2\n"
     ]
    },
    {
     "name": "stdout",
     "output_type": "stream",
     "text": [
      "[66th] image_url =  http://postfiles7.naver.net/20160404_38/kellyhahn81_1459779421908EJ4PI_JPEG/%C0%A3%BD%C3%C4%DA%B1%E2.jpg?type=w773\n",
      "[67th] image_url =  http://postfiles13.naver.net/20140109_188/onlyjoo3_1389254839318AslPA_JPEG/%C0%A3%BD%C3%C4%DA%B1%E24.jpg?type=w2\n",
      "[68th] image_url =  http://postfiles12.naver.net/20140813_187/thepianosam_1407904736320g5Qyz_PNG/%C0%A3%BD%C3%C4%DA%B1%E2_3.png?type=w2\n",
      "[69th] image_url =  http://t1.daumcdn.net/cfile/tistory/2160895057F233DF11\n",
      "[70th] image_url =  http://postfiles8.naver.net/20140610_103/whdmek11_140238679773448F0O_JPEG/%C0%A3%BD%C3%C4%DA%B1%E2.jpg?type=w2\n",
      "[71th] image_url =  http://postfiles7.naver.net/20140722_150/gun8058_1406033316978o9mAR_JPEG/%C0%A3%BD%C3%C4%DA%B1%E22.jpg?type=w2\n",
      "[72th] image_url =  http://postfiles8.naver.net/20160512_247/gjtue58dhef_1463065094628nwcVM_JPEG/%C0%A3%BD%C3%C4%DA%B1%E235.jpg?type=w1\n",
      "[73th] image_url =  http://postfiles10.naver.net/MjAxOTA2MDNfMjE5/MDAxNTU5NTIyMjI2MDA0.tPeufHpMj_jj1hhK_P-FlZKA0o5ZJGqkAHYNOMAUvswg.Tu0wA5Or5MDqmjvcI8D2HEeDH84ny8Ep7scN91glQRUg.JPEG.pwi9929/%EC%BA%98%EB%A6%AC%ED%8F%AC%EB%8B%88%EC%95%84_%EC%9B%B0%EC%8B%9C%EC%BD%94%EA%B8%B0_%EB%8C%80%ED%9A%8C2.jpg?type=w773\n",
      "[74th] image_url =  http://postfiles16.naver.net/MjAyMDAzMzBfMjUw/MDAxNTg1NTc3MjE4MzYz.Wcku0H5j7lc1OmN_hX3nbKUE2z4c2fAwjmsqvV2liysg.4D64NoC2-PWQ7rYzSmODUwz2Zz2r2IKoHwrAJskYwyAg.JPEG.drive21c/%EC%9B%B0%EC%8B%9C%EC%BD%94%EA%B8%B08%EA%BE%B8%EB%AF%B8%EA%B8%B0.jpg?type=w773\n",
      "[75th] image_url =  http://postfiles16.naver.net/20151203_31/wndfud32_14490686006577dd9D_JPEG/%C0%A3%BD%C3%C4%DA%B1%E256.jpg?type=w2\n",
      "[76th] image_url =  http://postfiles10.naver.net/20160701_265/jst7600_1467361241199q0Q1W_JPEG/%C0%A3%BD%C3%C4%DA%B1%E2_%285%29.JPG?type=w1\n",
      "[77th] image_url =  http://file2.instiz.net/data/file2/2016/02/20/8/2/7/8273b56ee6284f5976f86dbc8843589f.jpg\n",
      "[78th] image_url =  http://postfiles3.naver.net/20140918_178/chlfkrrnd_1411018680036tSydV_JPEG/%C0%A3%BD%C3%C4%DA%B1%E22.jpg?type=w3\n",
      "[79th] image_url =  http://postfiles11.naver.net/20131002_154/jep0326_1380679394696mINRS_JPEG/%C0%A3%BD%C3%C4%DA%B1%E27.jpg?type=w2\n"
     ]
    }
   ],
   "source": [
    "if response.status_code != 200:\n",
    "    print(\"error 발생!\")\n",
    "else:\n",
    "    count = 0\n",
    "    for image_info in response.json()['documents']:\n",
    "        print(f\"[{count}th] image_url = \", image_info['image_url'])\n",
    "        \n",
    "        # 저장될 이미지 파일명\n",
    "        count = count + 1\n",
    "        file_name = \"test_%d.jpg\" %(count)\n",
    "        \n",
    "        # 이미지 저장\n",
    "        save_image(image_info['image_url'], file_name)\n",
    "              "
   ]
  },
  {
   "cell_type": "code",
   "execution_count": null,
   "id": "dafe4839",
   "metadata": {},
   "outputs": [],
   "source": []
  },
  {
   "cell_type": "code",
   "execution_count": null,
   "id": "3d10724f",
   "metadata": {},
   "outputs": [],
   "source": []
  }
 ],
 "metadata": {
  "kernelspec": {
   "display_name": "Python 3",
   "language": "python",
   "name": "python3"
  },
  "language_info": {
   "codemirror_mode": {
    "name": "ipython",
    "version": 3
   },
   "file_extension": ".py",
   "mimetype": "text/x-python",
   "name": "python",
   "nbconvert_exporter": "python",
   "pygments_lexer": "ipython3",
   "version": "3.8.8"
  }
 },
 "nbformat": 4,
 "nbformat_minor": 5
}
